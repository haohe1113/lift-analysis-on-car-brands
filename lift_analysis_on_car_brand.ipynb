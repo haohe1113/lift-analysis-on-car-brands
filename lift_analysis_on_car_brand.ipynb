{
  "nbformat": 4,
  "nbformat_minor": 0,
  "metadata": {
    "colab": {
      "name": "lift_analysis_on_car_brand.ipynb",
      "provenance": [],
      "collapsed_sections": [],
      "toc_visible": true,
      "include_colab_link": true
    },
    "kernelspec": {
      "name": "python3",
      "display_name": "Python 3"
    },
    "accelerator": "GPU"
  },
  "cells": [
    {
      "cell_type": "markdown",
      "metadata": {
        "id": "view-in-github",
        "colab_type": "text"
      },
      "source": [
        "<a href=\"https://colab.research.google.com/github/haohe1113/lift-analysis-on-car-brands/blob/main/lift_analysis_on_car_brand.ipynb\" target=\"_parent\"><img src=\"https://colab.research.google.com/assets/colab-badge.svg\" alt=\"Open In Colab\"/></a>"
      ]
    },
    {
      "cell_type": "markdown",
      "metadata": {
        "id": "KqPX4gLnXUIZ"
      },
      "source": [
        "The forum we used: https://forums.edmunds.com/discussion/7526/general/x/midsize-sedans-2-0"
      ]
    },
    {
      "cell_type": "code",
      "metadata": {
        "colab": {
          "base_uri": "https://localhost:8080/"
        },
        "id": "rZZyK6fC37tn",
        "outputId": "f2bdd0ca-85c3-4f94-b2bd-54f2d5fd067b"
      },
      "source": [
        "from google.colab import drive\n",
        "drive.mount('/content/drive')\n",
        "%cd '/content/drive/MyDrive/lift_analysis_on_car_brands/'"
      ],
      "execution_count": 2,
      "outputs": [
        {
          "output_type": "stream",
          "text": [
            "Mounted at /content/drive\n",
            "/content/drive/MyDrive/lift_analysis_on_car_brands\n"
          ],
          "name": "stdout"
        }
      ]
    },
    {
      "cell_type": "markdown",
      "metadata": {
        "id": "SbWXdGnjDawx"
      },
      "source": [
        "## Section A: Lift Analysis on Car Brands\n",
        "In this section, we will identify the top 10 mostly  mentioned brands by consumers from the UGC we just scraped. Then, we will calculate lift ratios for associations between each pair of the top 10 brands and present a lift table. We *will* also visualize the lift table by a MDS map. "
      ]
    },
    {
      "cell_type": "markdown",
      "metadata": {
        "id": "6mGtpGoJFQZO"
      },
      "source": [
        "### Data Preprocessing"
      ]
    },
    {
      "cell_type": "code",
      "metadata": {
        "id": "AcGBrlNBFAmZ",
        "colab": {
          "base_uri": "https://localhost:8080/"
        },
        "outputId": "01d5331d-33ad-401f-9827-5bdd5d1a1151"
      },
      "source": [
        "import nltk\n",
        "import pandas as pd\n",
        "import numpy as np\n",
        "nltk.download(\"stopwords\")\n",
        "nltk.download(\"punkt\")\n",
        "from nltk.corpus import stopwords\n",
        "from nltk.tokenize import RegexpTokenizer\n",
        "stop = stopwords.words('english')\n",
        "\n",
        "# define the reference table to replace models with brands\n",
        "reference = pd.read_csv(\"car models and brands.csv\", names = [\"Brand\",\"Model\"],header = None)\n",
        "reference.set_index(reference[\"Model\"],inplace = True)\n",
        "reference[\"Model\"].drop_duplicates(inplace = True)\n",
        "\n",
        "models = reference[\"Model\"].tolist()\n",
        "brands = reference[\"Brand\"].tolist()\n",
        "\n",
        "\n",
        "\"\"\"\n",
        "This function takes the message and splits it into words, using regular expressions to match cases.  \n",
        "The regular expression is r'\\w+'.  The r converts the message into a string literal (disregarding \\n)\n",
        "and then finds all words in the message.\n",
        "\"\"\"\n",
        "def filter(series):\n",
        "  filtered_messages = []\n",
        "  for i in range(len(series)):\n",
        "    current_message = series.iloc[i]\n",
        "    tokenizer = RegexpTokenizer(r'\\w+')\n",
        "    words = tokenizer.tokenize(current_message)\n",
        "    edited_list = words.copy()\n",
        "    for j in words:\n",
        "      current_word = j.lower()\n",
        "      if current_word in stop:\n",
        "        edited_list.remove(j)\n",
        "    filtered_messages.append(edited_list)\n",
        "  return filtered_messages\n",
        "\n",
        "\"\"\"\n",
        "This function takes a 2D list and removes \"models\" in each row and replaces them with \"brands\"\n",
        "\"\"\"\n",
        "\n",
        "def remove_models(somelist):\n",
        "  newlists = []\n",
        "  for i in range(len(somelist)):\n",
        "    for j in range(len(somelist[i])):\n",
        "      somelist[i] = [x.lower() for x in somelist[i]]\n",
        "      current_word = somelist[i][j].strip()\n",
        "      if current_word in models:\n",
        "        somelist[i][somelist[i].index(current_word)] = reference[\"Brand\"].loc[reference[\"Model\"] == current_word].values[0].title()\n",
        "    newlists.append(somelist[i])\n",
        "  return newlists\n",
        "\n",
        "\"\"\"\n",
        "This function takes a 2D list and removes duplicated brands within each row.\n",
        "\"\"\"\n",
        "def remove_duplications(somelist):\n",
        "  newlists = []\n",
        "  for i in range(len(somelist)):\n",
        "    copy_oflist = somelist[i].copy()\n",
        "    copy_oflist = [x.lower() for x in copy_oflist]\n",
        "    repeat_catcher = []\n",
        "    for j in range(len(somelist[i])):\n",
        "      current_word = somelist[i][j].lower().strip()\n",
        "      if current_word in brands:\n",
        "        if current_word in repeat_catcher:\n",
        "          copy_oflist.remove(current_word)\n",
        "        else:\n",
        "          repeat_catcher.append(current_word)\n",
        "    newlists.append(copy_oflist)\n",
        "  return newlists\n",
        "\n",
        "\"\"\"\n",
        "This function takes a 2D list and counts the total number of times a particular word was used\n",
        "across all rows.\n",
        "\"\"\"\n",
        "\n",
        "def freq(somelist):\n",
        "  frequency_counts = {}\n",
        "  for i in range(len(somelist)):\n",
        "    for j in range(len(somelist[i])):\n",
        "      current_word = somelist[i][j].lower()\n",
        "      if current_word not in frequency_counts:\n",
        "        frequency_counts[current_word] = 1\n",
        "      else:\n",
        "        frequency_counts[current_word] += 1\n",
        "  return frequency_counts"
      ],
      "execution_count": 3,
      "outputs": [
        {
          "output_type": "stream",
          "text": [
            "[nltk_data] Downloading package stopwords to /root/nltk_data...\n",
            "[nltk_data]   Package stopwords is already up-to-date!\n",
            "[nltk_data] Downloading package punkt to /root/nltk_data...\n",
            "[nltk_data]   Package punkt is already up-to-date!\n"
          ],
          "name": "stdout"
        }
      ]
    },
    {
      "cell_type": "code",
      "metadata": {
        "id": "CCLZ5G08JYYI"
      },
      "source": [
        "df2 = pd.read_csv(\"results.csv\")\n",
        "df2 = df2[\"Message\"].map(str)\n",
        "count_dict = freq(remove_duplications(remove_models(filter(df2))))"
      ],
      "execution_count": 4,
      "outputs": []
    },
    {
      "cell_type": "code",
      "metadata": {
        "id": "hhKCgFwMzG9R"
      },
      "source": [
        "count_data = pd.DataFrame(list(count_dict.items()),columns = [\"Word\",\"Count\"]).sort_values(by = \"Count\", ascending = False)\n",
        "# write to csv\n",
        "\n",
        "count_data.to_csv(\"total_data_counts.csv\", index = False)"
      ],
      "execution_count": 5,
      "outputs": []
    },
    {
      "cell_type": "code",
      "metadata": {
        "id": "quqfni0IX8Vb"
      },
      "source": [
        "relevant_count_data = pd.DataFrame(columns = [\"Word\",\"Count\"])\n",
        "\n",
        "for i in range(len(count_data)):\n",
        "  if count_data[\"Word\"].iloc[i] in brands:\n",
        "    relevant_count_data.loc[len(relevant_count_data)] = [count_data[\"Word\"].iloc[i],count_data[\"Count\"].iloc[i]]\n",
        "\n",
        "# remove extra words\n",
        "relevant_count_data = relevant_count_data[relevant_count_data[\"Word\"] != \"problem\"]\n",
        "relevant_count_data = relevant_count_data[relevant_count_data[\"Word\"] != \"car\"]\n",
        "relevant_count_data = relevant_count_data[relevant_count_data[\"Word\"] != \"sedan\"]\n",
        "relevant_count_data = relevant_count_data[relevant_count_data[\"Word\"] != \"seat\"]"
      ],
      "execution_count": 6,
      "outputs": []
    },
    {
      "cell_type": "code",
      "metadata": {
        "id": "OSiwMl_svB5f"
      },
      "source": [
        "relevant_count_data.to_csv(\"car_data_counts.csv\",index = False)"
      ],
      "execution_count": 7,
      "outputs": []
    },
    {
      "cell_type": "code",
      "metadata": {
        "id": "b0dD_WdGAEks",
        "colab": {
          "base_uri": "https://localhost:8080/"
        },
        "outputId": "d67e877f-e9b2-4076-ee0b-41b4ddefa406"
      },
      "source": [
        "# Some preprocessing.  We can see that the top 10 cars by frequency are as follows\n",
        "\n",
        "relevant_count_data = pd.read_csv(\"car_data_counts.csv\")\n",
        "\n",
        "top_10 = relevant_count_data.iloc[:10].copy()\n",
        "print(top_10)\n",
        "car_names = top_10[\"Word\"].tolist()\n",
        "car_counts = top_10[\"Count\"].tolist()\n",
        "total = len(df2)\n",
        "\n",
        "# only run this line once, because we are changing Counts in place\n",
        "top_10[\"Count\"] = top_10[\"Count\"]/total"
      ],
      "execution_count": 8,
      "outputs": [
        {
          "output_type": "stream",
          "text": [
            "        Word  Count\n",
            "0      honda   2121\n",
            "1       ford   1398\n",
            "2     toyota   1007\n",
            "3    hyundai    627\n",
            "4      mazda    596\n",
            "5     nissan    589\n",
            "6     saturn    259\n",
            "7  chevrolet    250\n",
            "8   chrysler    237\n",
            "9     subaru    165\n"
          ],
          "name": "stdout"
        }
      ]
    },
    {
      "cell_type": "code",
      "metadata": {
        "id": "n0GWDfareUSU"
      },
      "source": [
        "# We split messages into words in order to find the lifts\n",
        "splitted_messages = remove_duplications(remove_models(filter(df2)))"
      ],
      "execution_count": 9,
      "outputs": []
    },
    {
      "cell_type": "markdown",
      "metadata": {
        "id": "qwZxfPgnFYsn"
      },
      "source": [
        "### Lift Table"
      ]
    },
    {
      "cell_type": "code",
      "metadata": {
        "id": "7MyfWYdqAstA",
        "colab": {
          "base_uri": "https://localhost:8080/",
          "height": 393
        },
        "outputId": "9b306fb8-d326-4b83-d8ff-58e2508527fb"
      },
      "source": [
        "\"\"\"\n",
        "This function extracts the car names from messages only if the car\n",
        "is within the top 10 frequencies (as defined by the reference list).\n",
        "\"\"\"\n",
        "def filter_top10_cars(somelist,reference_list):\n",
        "  newlist = []\n",
        "  for i in range(len(somelist)):\n",
        "    current_cars = []\n",
        "    for j in range(len(somelist[i])):\n",
        "        if somelist[i][j] in reference_list:\n",
        "          current_cars.append(somelist[i][j])\n",
        "    newlist.append(current_cars)\n",
        "  return newlist\n",
        "\n",
        "\"\"\"\n",
        "This function calculates the probability of A intersect B, where A \n",
        "is one unique car and B is another.\n",
        "\"\"\"\n",
        "def prob_of_intersect(somelist):\n",
        "  associations = {}\n",
        "  for i in range(len(somelist)):\n",
        "    if len(somelist[i]) > 1:\n",
        "      current_message = somelist[i]\n",
        "      for j in range(len(current_message)):\n",
        "        for k in range(j,len(current_message)):\n",
        "          if current_message[j] != current_message[k]:\n",
        "            current_assocV1 = str(current_message[j]) + \",\" + str(current_message[k])\n",
        "            current_assocV2 = str(current_message[k]) + \",\" + str(current_message[j])\n",
        "            if current_assocV1 in associations:\n",
        "              associations[current_assocV1] += 1\n",
        "            elif current_assocV2 in associations:\n",
        "              associations[current_assocV2] += 1\n",
        "            else:\n",
        "              associations[current_assocV1] = 1\n",
        "  total = len(df2)\n",
        "  for i in associations:\n",
        "    associations[i] = associations[i]/total\n",
        "  return associations\n",
        "\n",
        "\"\"\"\n",
        "This function calculates the lift based on the intersection values \n",
        "found in the previous function.  It divides the probabilities by \n",
        "P(A)*P(B), which are found in the data parameter.\n",
        "\"\"\"\n",
        "def lift_matrix(somedict,data):\n",
        "  newdict = somedict.copy()\n",
        "  datatable = pd.DataFrame(columns = [\"Car1\",\"Car2\",\"Lift\"])\n",
        "  for i in somedict:\n",
        "    words = i.strip().split(\",\")\n",
        "    car1 = words[0]\n",
        "    car2 = words[1]\n",
        "\n",
        "    prob_car1 = data[\"Count\"].loc[data[\"Word\"] == car1].values[0]\n",
        "    prob_car2 = data[\"Count\"].loc[data[\"Word\"] == car2].values[0]\n",
        "\n",
        "    denominator = prob_car1*prob_car2\n",
        "\n",
        "    newdict[i] = somedict[i]/denominator\n",
        "\n",
        "    datatable.loc[len(datatable)] = [car1,car2,newdict[i]]\n",
        "    \n",
        "    matrix = pd.crosstab(datatable[\"Car1\"],datatable[\"Car2\"],values = datatable[\"Lift\"],aggfunc = sum)\n",
        "    matrix = matrix.fillna(0)\n",
        "  return matrix\n",
        "\n",
        "\"\"\"\n",
        "This function takes the matrix returned from the previous problem and converts it into \n",
        "an upper-traingular matrix (with diag(matrix) = 0).  The rows and columns must be \n",
        "specified.\n",
        "\"\"\"\n",
        "def upper_triangular(sometable,row,columns):\n",
        "  for i in range(row):\n",
        "    for j in range(columns):\n",
        "      if i > j  and sometable.iloc[i][j] != 0:\n",
        "       sometable.iloc[j][i] = sometable.iloc[i][j]\n",
        "       sometable.iloc[i][j] = 0\n",
        "  sometable.replace([0],value = \"\",inplace=  True)\n",
        "  return sometable\n",
        "\n",
        "lifts = upper_triangular(lift_matrix(prob_of_intersect(filter_top10_cars(splitted_messages,reference_list = car_names)),data = top_10),10,10)\n",
        "lifts"
      ],
      "execution_count": 32,
      "outputs": [
        {
          "output_type": "execute_result",
          "data": {
            "text/html": [
              "<div>\n",
              "<style scoped>\n",
              "    .dataframe tbody tr th:only-of-type {\n",
              "        vertical-align: middle;\n",
              "    }\n",
              "\n",
              "    .dataframe tbody tr th {\n",
              "        vertical-align: top;\n",
              "    }\n",
              "\n",
              "    .dataframe thead th {\n",
              "        text-align: right;\n",
              "    }\n",
              "</style>\n",
              "<table border=\"1\" class=\"dataframe\">\n",
              "  <thead>\n",
              "    <tr style=\"text-align: right;\">\n",
              "      <th>Car2</th>\n",
              "      <th>chevrolet</th>\n",
              "      <th>chrysler</th>\n",
              "      <th>ford</th>\n",
              "      <th>honda</th>\n",
              "      <th>hyundai</th>\n",
              "      <th>mazda</th>\n",
              "      <th>nissan</th>\n",
              "      <th>saturn</th>\n",
              "      <th>subaru</th>\n",
              "      <th>toyota</th>\n",
              "    </tr>\n",
              "    <tr>\n",
              "      <th>Car1</th>\n",
              "      <th></th>\n",
              "      <th></th>\n",
              "      <th></th>\n",
              "      <th></th>\n",
              "      <th></th>\n",
              "      <th></th>\n",
              "      <th></th>\n",
              "      <th></th>\n",
              "      <th></th>\n",
              "      <th></th>\n",
              "    </tr>\n",
              "  </thead>\n",
              "  <tbody>\n",
              "    <tr>\n",
              "      <th>chevrolet</th>\n",
              "      <td></td>\n",
              "      <td>2.17215</td>\n",
              "      <td>1.28884</td>\n",
              "      <td>1.30693</td>\n",
              "      <td>1.70526</td>\n",
              "      <td>0.996644</td>\n",
              "      <td>2.01698</td>\n",
              "      <td>5.58069</td>\n",
              "      <td>1.68</td>\n",
              "      <td>1.80894</td>\n",
              "    </tr>\n",
              "    <tr>\n",
              "      <th>chrysler</th>\n",
              "      <td></td>\n",
              "      <td></td>\n",
              "      <td>1.40436</td>\n",
              "      <td>1.28999</td>\n",
              "      <td>1.66556</td>\n",
              "      <td>0.806006</td>\n",
              "      <td>1.34749</td>\n",
              "      <td>1.3709</td>\n",
              "      <td>1.01266</td>\n",
              "      <td>1.28594</td>\n",
              "    </tr>\n",
              "    <tr>\n",
              "      <th>ford</th>\n",
              "      <td></td>\n",
              "      <td></td>\n",
              "      <td></td>\n",
              "      <td>1.19027</td>\n",
              "      <td>1.23673</td>\n",
              "      <td>1.26541</td>\n",
              "      <td>1.24438</td>\n",
              "      <td>1.32608</td>\n",
              "      <td>0.922747</td>\n",
              "      <td>1.45569</td>\n",
              "    </tr>\n",
              "    <tr>\n",
              "      <th>honda</th>\n",
              "      <td></td>\n",
              "      <td></td>\n",
              "      <td></td>\n",
              "      <td></td>\n",
              "      <td>1.45165</td>\n",
              "      <td>1.14341</td>\n",
              "      <td>1.45417</td>\n",
              "      <td>1.3336</td>\n",
              "      <td>1.34371</td>\n",
              "      <td>1.72428</td>\n",
              "    </tr>\n",
              "    <tr>\n",
              "      <th>hyundai</th>\n",
              "      <td></td>\n",
              "      <td></td>\n",
              "      <td></td>\n",
              "      <td></td>\n",
              "      <td></td>\n",
              "      <td>1.2054</td>\n",
              "      <td>1.62184</td>\n",
              "      <td>1.73745</td>\n",
              "      <td>1.91388</td>\n",
              "      <td>1.88941</td>\n",
              "    </tr>\n",
              "    <tr>\n",
              "      <th>mazda</th>\n",
              "      <td></td>\n",
              "      <td></td>\n",
              "      <td></td>\n",
              "      <td></td>\n",
              "      <td></td>\n",
              "      <td></td>\n",
              "      <td>1.46648</td>\n",
              "      <td>1.12235</td>\n",
              "      <td>3.27181</td>\n",
              "      <td>0.964973</td>\n",
              "    </tr>\n",
              "    <tr>\n",
              "      <th>nissan</th>\n",
              "      <td></td>\n",
              "      <td></td>\n",
              "      <td></td>\n",
              "      <td></td>\n",
              "      <td></td>\n",
              "      <td></td>\n",
              "      <td></td>\n",
              "      <td>2.85544</td>\n",
              "      <td>2.08829</td>\n",
              "      <td>2.24498</td>\n",
              "    </tr>\n",
              "    <tr>\n",
              "      <th>saturn</th>\n",
              "      <td></td>\n",
              "      <td></td>\n",
              "      <td></td>\n",
              "      <td></td>\n",
              "      <td></td>\n",
              "      <td></td>\n",
              "      <td></td>\n",
              "      <td></td>\n",
              "      <td>1.73745</td>\n",
              "      <td>2.31545</td>\n",
              "    </tr>\n",
              "    <tr>\n",
              "      <th>subaru</th>\n",
              "      <td></td>\n",
              "      <td></td>\n",
              "      <td></td>\n",
              "      <td></td>\n",
              "      <td></td>\n",
              "      <td></td>\n",
              "      <td></td>\n",
              "      <td></td>\n",
              "      <td></td>\n",
              "      <td>1.28103</td>\n",
              "    </tr>\n",
              "    <tr>\n",
              "      <th>toyota</th>\n",
              "      <td></td>\n",
              "      <td></td>\n",
              "      <td></td>\n",
              "      <td></td>\n",
              "      <td></td>\n",
              "      <td></td>\n",
              "      <td></td>\n",
              "      <td></td>\n",
              "      <td></td>\n",
              "      <td></td>\n",
              "    </tr>\n",
              "  </tbody>\n",
              "</table>\n",
              "</div>"
            ],
            "text/plain": [
              "Car2      chevrolet chrysler     ford  ...   saturn    subaru    toyota\n",
              "Car1                                   ...                             \n",
              "chevrolet            2.17215  1.28884  ...  5.58069      1.68   1.80894\n",
              "chrysler                      1.40436  ...   1.3709   1.01266   1.28594\n",
              "ford                                   ...  1.32608  0.922747   1.45569\n",
              "honda                                  ...   1.3336   1.34371   1.72428\n",
              "hyundai                                ...  1.73745   1.91388   1.88941\n",
              "mazda                                  ...  1.12235   3.27181  0.964973\n",
              "nissan                                 ...  2.85544   2.08829   2.24498\n",
              "saturn                                 ...            1.73745   2.31545\n",
              "subaru                                 ...                      1.28103\n",
              "toyota                                 ...                             \n",
              "\n",
              "[10 rows x 10 columns]"
            ]
          },
          "metadata": {
            "tags": []
          },
          "execution_count": 32
        }
      ]
    },
    {
      "cell_type": "code",
      "metadata": {
        "id": "Lmz6Nz_dYyAy"
      },
      "source": [
        "lifts.to_csv(\"lifts.csv\")"
      ],
      "execution_count": 14,
      "outputs": []
    },
    {
      "cell_type": "markdown",
      "metadata": {
        "id": "Qscc-YU3Fdpz"
      },
      "source": [
        "### Visualize Lift Table by MDS Map"
      ]
    },
    {
      "cell_type": "code",
      "metadata": {
        "id": "aFLYSh3Z5yqG"
      },
      "source": [
        "#https://scikit-learn.org/stable/auto_examples/manifold/plot_mds.html#sphx-glr-auto-examples-manifold-plot-mds-py\n",
        "# ONLY RUN ONCE DUE TO CHANGES IN PLACE\n",
        "\n",
        "from sklearn.manifold import MDS\n",
        "pd.options.mode.chained_assignment = 'warn'\n",
        "\n",
        "def dissimilarity_matrix(sometable,row,columns):\n",
        "  newtable = sometable.copy()\n",
        "  for i in range(row):\n",
        "    for j in range(columns):\n",
        "      if i < j:\n",
        "        dis = 1/sometable.iloc[i][j]\n",
        "        newtable.iloc[i,j] = dis\n",
        "      elif i > j:\n",
        "        newtable.iloc[i,j] = newtable.iloc[j,i]\n",
        "      else:\n",
        "        newtable.iloc[i,j] = 0\n",
        "  return newtable\n",
        "\n",
        "#lift_df = pd.DataFrame(lifts)\n",
        "lift_simil = dissimilarity_matrix(lifts,10,10)\n",
        "lift_simil\n"
      ],
      "execution_count": 33,
      "outputs": []
    },
    {
      "cell_type": "code",
      "metadata": {
        "id": "MUGeE-jVPaAr",
        "colab": {
          "base_uri": "https://localhost:8080/"
        },
        "outputId": "1d35fe10-f440-43a5-cd5b-a6a5b9b63753"
      },
      "source": [
        "matrix = lift_simil.values\n",
        "embedding = MDS(2,random_state = 1)\n",
        "\n",
        "# Assuming that the embedding prints each car in order\n",
        "reduced = embedding.fit_transform(matrix)\n",
        "coordinates = pd.DataFrame(reduced,columns = [\"x\",\"y\"])\n",
        "coordinates[\"Car\"] = lifts.index  "
      ],
      "execution_count": 34,
      "outputs": [
        {
          "output_type": "stream",
          "text": [
            "/usr/local/lib/python3.6/dist-packages/sklearn/manifold/_mds.py:419: UserWarning: The MDS API has changed. ``fit`` now constructs an dissimilarity matrix from data. To use a custom dissimilarity matrix, set ``dissimilarity='precomputed'``.\n",
            "  warnings.warn(\"The MDS API has changed. ``fit`` now constructs an\"\n"
          ],
          "name": "stderr"
        }
      ]
    },
    {
      "cell_type": "code",
      "metadata": {
        "id": "HnXFyYXxmFPW",
        "colab": {
          "base_uri": "https://localhost:8080/",
          "height": 623
        },
        "outputId": "3b3d0592-6167-446e-9d46-48b1f2cc63aa"
      },
      "source": [
        "import seaborn as sns\n",
        "import matplotlib.pyplot as plt\n",
        "\n",
        "fig_dims = (10,10)\n",
        "fig, axis = plt.subplots(figsize = fig_dims)\n",
        "\n",
        "sns.set_style(\"darkgrid\")\n",
        "sns.scatterplot(data = coordinates, x = \"x\", y = \"y\",hue = \"Car\",ax = axis, s = 100)"
      ],
      "execution_count": 35,
      "outputs": [
        {
          "output_type": "execute_result",
          "data": {
            "text/plain": [
              "<matplotlib.axes._subplots.AxesSubplot at 0x7f5d924b5e10>"
            ]
          },
          "metadata": {
            "tags": []
          },
          "execution_count": 35
        },
        {
          "output_type": "display_data",
          "data": {
            "image/png": "[encoded data removed]",
            "text/plain": [
              "<Figure size 720x720 with 1 Axes>"
            ]
          },
          "metadata": {
            "tags": []
          }
        }
      ]
    },
    {
      "cell_type": "markdown",
      "metadata": {
        "id": "rpbsToylFDYX"
      },
      "source": [
        "### Insights"
      ]
    },
    {
      "cell_type": "markdown",
      "metadata": {
        "id": "ggjLzqw4COTC"
      },
      "source": [
        "Assuming that our brand manager works at Saturn, we can show that there is a high lift between Saturn and Chevrolet.  Based on the comments in the forum, they are usually being compared as similar cars.  However, in the United States, Saturn cars are generally not popular in comparison to Chevrolet cars.  Given this, the brand manager could make the brand more popular by hiring celebrities to show off their vehicles.  \n",
        "\n",
        "If, on the other hand, our brand manager is from Chevrolet, we can show that the cars are being compared too similarly.  Given the reputation of Chevrolet, it seems as though the brand manager is doing a good job of marketing Chevrolet.  It may still be useful, however, to bring up the fact that the Saturn Aura is being compared with the Chevrolet Malibu at the same level. "
      ]
    },
    {
      "cell_type": "markdown",
      "metadata": {
        "id": "9bx7eWSLFrGs"
      },
      "source": [
        "## Section B: Car Attribute Analysis\n",
        "In this section, we will identify the attributes that are strongly associated with the polular brands, based on that, we will provide marketing and product-managing advice to each popular brand.\n",
        "\n",
        "\n"
      ]
    },
    {
      "cell_type": "markdown",
      "metadata": {
        "id": "d8BGYmCHH4dm"
      },
      "source": [
        "### Data Preprocessing"
      ]
    },
    {
      "cell_type": "code",
      "metadata": {
        "id": "xjZxEYLCEWmi",
        "colab": {
          "base_uri": "https://localhost:8080/",
          "height": 195
        },
        "outputId": "5dc3a442-a860-45b3-a4fc-f6fe5e0f738a"
      },
      "source": [
        "tokenizer = RegexpTokenizer(r'\\w+')\n",
        "stop = stopwords.words('english')\n",
        "#raw comments\n",
        "thread = pd.read_csv('results.csv', header = 0)\n",
        "\n",
        "#model-brand reference\n",
        "model_brand = pd.read_csv(\"car models and brands.csv\", \n",
        "                          names = [\"Brand\",\"Model\"],\n",
        "                          header = None,\n",
        "                          index_col = \"Model\")\n",
        "\n",
        "#data cleaning\n",
        "#remove puctuation marks from model names and brand names\n",
        "model_brand['Brand'] = model_brand.Brand.str.replace(r'[^\\w\\s]', '')\n",
        "model_brand.index = model_brand.index.str.replace(r'[^\\w\\s]', '')\n",
        "#remove duplicated model names\n",
        "model_brand = model_brand.groupby(model_brand.index).first()\n",
        "#convert to a dictionary\n",
        "model_brand_dict = model_brand.to_dict()\n",
        "\n",
        "thread[\"Message\"] = thread[\"Message\"].astype(str)\n",
        "#tokenize comments\n",
        "thread['tokens'] = thread.Message.apply(lambda each_comm: tokenizer.tokenize(each_comm.lower()))\n",
        "#drop stopwords from tokens\n",
        "thread['tokens'] = thread.tokens.apply(lambda each_token: [i for i in each_token if i not in stop])\n",
        "#replace model name tokens by brand names\n",
        "thread['tokens'] = thread.tokens.apply(lambda each_token: [i if i not in model_brand.index else model_brand.Brand.loc[i] \n",
        "                                                           for i in each_token])\n",
        "#make token list unique\n",
        "thread['tokens'] = thread.tokens.apply(lambda each_token: list(set(each_token)))\n",
        "\n",
        "thread[:5]"
      ],
      "execution_count": 36,
      "outputs": [
        {
          "output_type": "execute_result",
          "data": {
            "text/html": [
              "<div>\n",
              "<style scoped>\n",
              "    .dataframe tbody tr th:only-of-type {\n",
              "        vertical-align: middle;\n",
              "    }\n",
              "\n",
              "    .dataframe tbody tr th {\n",
              "        vertical-align: top;\n",
              "    }\n",
              "\n",
              "    .dataframe thead th {\n",
              "        text-align: right;\n",
              "    }\n",
              "</style>\n",
              "<table border=\"1\" class=\"dataframe\">\n",
              "  <thead>\n",
              "    <tr style=\"text-align: right;\">\n",
              "      <th></th>\n",
              "      <th>UserID</th>\n",
              "      <th>Date</th>\n",
              "      <th>Message</th>\n",
              "      <th>tokens</th>\n",
              "    </tr>\n",
              "  </thead>\n",
              "  <tbody>\n",
              "    <tr>\n",
              "      <th>0</th>\n",
              "      <td>motownusa</td>\n",
              "      <td>April 11, 2007 7:52PM</td>\n",
              "      <td>Hi Pat:\\n\\nYou forgot the Chrysler Sebring</td>\n",
              "      <td>[forgot, pat, hi, chrysler]</td>\n",
              "    </tr>\n",
              "    <tr>\n",
              "      <th>1</th>\n",
              "      <td>exshoman</td>\n",
              "      <td>April 11, 2007 8:33PM</td>\n",
              "      <td>I'm sure some folks would appreciate having th...</td>\n",
              "      <td>[would, sure, included, well, appreciate, folk...</td>\n",
              "    </tr>\n",
              "    <tr>\n",
              "      <th>2</th>\n",
              "      <td>targettuning</td>\n",
              "      <td>April 12, 2007 7:51AM</td>\n",
              "      <td>You can try to revive this topic but without b...</td>\n",
              "      <td>[comparisons, talk, members, however, manufact...</td>\n",
              "    </tr>\n",
              "    <tr>\n",
              "      <th>3</th>\n",
              "      <td>pat</td>\n",
              "      <td>April 12, 2007 9:43AM</td>\n",
              "      <td>Model vs. model is exactly what we're here for...</td>\n",
              "      <td>[turning, time, noted, many, around, manufactu...</td>\n",
              "    </tr>\n",
              "    <tr>\n",
              "      <th>4</th>\n",
              "      <td>perna</td>\n",
              "      <td>April 13, 2007 12:49PM</td>\n",
              "      <td>The Altima is my favorite of the bunch. It is ...</td>\n",
              "      <td>[gadgets, like, one, kia, priced, nissan, feel...</td>\n",
              "    </tr>\n",
              "  </tbody>\n",
              "</table>\n",
              "</div>"
            ],
            "text/plain": [
              "         UserID  ...                                             tokens\n",
              "0     motownusa  ...                        [forgot, pat, hi, chrysler]\n",
              "1      exshoman  ...  [would, sure, included, well, appreciate, folk...\n",
              "2  targettuning  ...  [comparisons, talk, members, however, manufact...\n",
              "3           pat  ...  [turning, time, noted, many, around, manufactu...\n",
              "4         perna  ...  [gadgets, like, one, kia, priced, nissan, feel...\n",
              "\n",
              "[5 rows x 4 columns]"
            ]
          },
          "metadata": {
            "tags": []
          },
          "execution_count": 36
        }
      ]
    },
    {
      "cell_type": "markdown",
      "metadata": {
        "id": "_OZSKc5VXdpZ"
      },
      "source": [
        "We manually selected car attributes from the list of nouns and adjectives and ended up having about 200 raw attributes. Clustered the attributes with similar meanings and ended up with 20 attribute groups.  We used this dataset (attr_50freq_grouped.csv) for the code below.  If needed, we can provide this dataset."
      ]
    },
    {
      "cell_type": "code",
      "metadata": {
        "id": "zq4uUuYbIrC9",
        "colab": {
          "base_uri": "https://localhost:8080/"
        },
        "outputId": "a0f01cc0-f713-41c0-a580-fba1df71418b"
      },
      "source": [
        "from nltk import pos_tag\n",
        "from nltk import FreqDist\n",
        "nltk.download('averaged_perceptron_tagger')\n",
        "\n",
        "\n",
        "#pos_tag tokens\n",
        "thread['token_pos_tag'] = thread.tokens.apply(lambda each_token: pos_tag(each_token))\n",
        "#filter nouns from tokens\n",
        "thread['nn_adj'] = thread.token_pos_tag.apply(lambda tag_list: \n",
        "                                             [tag[0] for tag in tag_list if tag[1] in ('NN', 'NNS', 'NNP', 'NNPS', 'JJR', 'JJ', 'JJS')])\n",
        "\n",
        "#token freqency\n",
        "all_tokens = thread.tokens.sum()\n",
        "token_freq = pd.Series(dict(nltk.FreqDist(all_tokens))).to_frame(name = 'freq')\n",
        "\n",
        "#unique noun & adj df\n",
        "unique_nn_adj = thread.nn_adj.apply(pd.Series).stack().unique()\n",
        "unique_nn_adj_df = pd.DataFrame(unique_nn_adj, columns = ['nn_adj'])\n",
        "\n",
        "#noun & adj freq count\n",
        "nn_adj_freq = unique_nn_adj_df.merge(token_freq, how = 'left', left_on = 'nn_adj',right_index = True).\\\n",
        "                               set_index('nn_adj')['freq'].\\\n",
        "                               sort_values(ascending = False).\\\n",
        "                               to_frame()\n",
        "#keep items with >50 frequency\n",
        "nn_adj_freq = nn_adj_freq[nn_adj_freq.freq > 50]\n",
        "\n",
        "attri_freq = pd.read_csv('attr_50freq_grouped.csv')\n",
        "attri_dict = attri_freq.set_index('attributes')['group'].to_dict()"
      ],
      "execution_count": 38,
      "outputs": [
        {
          "output_type": "stream",
          "text": [
            "[nltk_data] Downloading package averaged_perceptron_tagger to\n",
            "[nltk_data]     /root/nltk_data...\n",
            "[nltk_data]   Unzipping taggers/averaged_perceptron_tagger.zip.\n"
          ],
          "name": "stdout"
        }
      ]
    },
    {
      "cell_type": "code",
      "metadata": {
        "id": "fIw0C_2KOAsK",
        "colab": {
          "base_uri": "https://localhost:8080/"
        },
        "outputId": "e5c2c22a-a21f-46fd-e9cd-48afab9cd2c9"
      },
      "source": [
        "thread['tokens'] = thread.tokens.apply(lambda token_list: [attri_dict[i] if i in attri_dict else i \n",
        "                                                           for i in token_list])\n",
        "#make new token lists unique\n",
        "thread['tokens'] = thread.tokens.apply(lambda each_token: list(set(each_token)))\n",
        "#calulate new token freqency\n",
        "all_tokens = thread.tokens.sum()\n",
        "token_freq = pd.Series(dict(nltk.FreqDist(all_tokens))).to_frame(name = 'freq')\n",
        "#token_freq[:5]\n",
        "\n",
        "#obtain the 5 mostly mentioned attribute groups\n",
        "group_attri_df = pd.DataFrame(attri_freq.group.unique(), columns = ['group'])\n",
        "top_attri = token_freq.merge(group_attri_df, left_index = True, right_on = 'group').\\\n",
        "            set_index('group').\\\n",
        "            sort_values('freq', ascending = False)[:5].\\\n",
        "            index.to_list()\n",
        "top_attri"
      ],
      "execution_count": 39,
      "outputs": [
        {
          "output_type": "execute_result",
          "data": {
            "text/plain": [
              "['performance', 'price', 'design', 'reliability', 'power']"
            ]
          },
          "metadata": {
            "tags": []
          },
          "execution_count": 39
        }
      ]
    },
    {
      "cell_type": "code",
      "metadata": {
        "id": "rbdAETby-fV_"
      },
      "source": [
        "top_attri_ref = attri_freq[['group', 'attributes', 'freq']].\\\n",
        "                groupby('group').\\\n",
        "                apply(lambda group: group.sort_values('freq', ascending = False)).\\\n",
        "                set_index(['group', 'attributes'], drop = True)\n",
        "\n",
        "#input - group attribute name\n",
        "#output - the raw attributes in the group\n",
        "def attri_meaning(attri):\n",
        "    return top_attri_ref.loc[attri].index.to_list()"
      ],
      "execution_count": 40,
      "outputs": []
    },
    {
      "cell_type": "markdown",
      "metadata": {
        "id": "2tAzdpCdIAkg"
      },
      "source": [
        "### Lift Analysis on Polular Car Brands vs Attributes\n",
        "\n",
        "```\n",
        "# This is formatted as code\n",
        "```\n",
        "\n",
        "\n",
        "Present a lift table which shows the correlations between popular car brands and their mostly correlated attributes."
      ]
    },
    {
      "cell_type": "code",
      "metadata": {
        "id": "EfEM57iCQhjV"
      },
      "source": [
        "def lift(a, b, comments):\n",
        "    num_a = 0\n",
        "    num_b = 0\n",
        "    num_a_b = 0\n",
        "    n = len(comments)\n",
        "    for comm_i in comments:\n",
        "        if a in comm_i:\n",
        "            num_a += 1\n",
        "        if b in comm_i:\n",
        "            num_b += 1\n",
        "        if a in comm_i and b in comm_i:\n",
        "            num_a_b += 1\n",
        "    if num_a != 0 and num_b != 0:\n",
        "        return (float(n) * num_a_b)/(num_a * num_b)\n",
        "    else:\n",
        "        return 0.0"
      ],
      "execution_count": 42,
      "outputs": []
    },
    {
      "cell_type": "code",
      "metadata": {
        "id": "G74ODbkraRfL",
        "colab": {
          "base_uri": "https://localhost:8080/",
          "height": 195
        },
        "outputId": "4463aeeb-226c-4de0-c1a1-3e6ef81692f0"
      },
      "source": [
        "#popular brand list obtained from Section A\n",
        "top_brand = ['honda', 'ford', 'toyota', 'hyundai', 'mazda']\n",
        "\n",
        "#create a df \n",
        "brand_attri_lift = pd.DataFrame(columns = ['Brand', 'Attribute', 'Lift'])\n",
        "row = 0\n",
        "for brand in top_brand:\n",
        "    for attri in top_attri:\n",
        "        lift_i = lift(brand, attri, thread.tokens)\n",
        "        brand_attri_lift.loc[row] = [str(brand), str(attri), lift_i]\n",
        "        row += 1\n",
        "brand_attri_lift[:5]"
      ],
      "execution_count": 45,
      "outputs": [
        {
          "output_type": "execute_result",
          "data": {
            "text/html": [
              "<div>\n",
              "<style scoped>\n",
              "    .dataframe tbody tr th:only-of-type {\n",
              "        vertical-align: middle;\n",
              "    }\n",
              "\n",
              "    .dataframe tbody tr th {\n",
              "        vertical-align: top;\n",
              "    }\n",
              "\n",
              "    .dataframe thead th {\n",
              "        text-align: right;\n",
              "    }\n",
              "</style>\n",
              "<table border=\"1\" class=\"dataframe\">\n",
              "  <thead>\n",
              "    <tr style=\"text-align: right;\">\n",
              "      <th></th>\n",
              "      <th>Brand</th>\n",
              "      <th>Attribute</th>\n",
              "      <th>Lift</th>\n",
              "    </tr>\n",
              "  </thead>\n",
              "  <tbody>\n",
              "    <tr>\n",
              "      <th>0</th>\n",
              "      <td>honda</td>\n",
              "      <td>performance</td>\n",
              "      <td>1.118852</td>\n",
              "    </tr>\n",
              "    <tr>\n",
              "      <th>1</th>\n",
              "      <td>honda</td>\n",
              "      <td>price</td>\n",
              "      <td>1.236899</td>\n",
              "    </tr>\n",
              "    <tr>\n",
              "      <th>2</th>\n",
              "      <td>honda</td>\n",
              "      <td>design</td>\n",
              "      <td>1.200708</td>\n",
              "    </tr>\n",
              "    <tr>\n",
              "      <th>3</th>\n",
              "      <td>honda</td>\n",
              "      <td>reliability</td>\n",
              "      <td>1.199977</td>\n",
              "    </tr>\n",
              "    <tr>\n",
              "      <th>4</th>\n",
              "      <td>honda</td>\n",
              "      <td>power</td>\n",
              "      <td>1.167037</td>\n",
              "    </tr>\n",
              "  </tbody>\n",
              "</table>\n",
              "</div>"
            ],
            "text/plain": [
              "   Brand    Attribute      Lift\n",
              "0  honda  performance  1.118852\n",
              "1  honda        price  1.236899\n",
              "2  honda       design  1.200708\n",
              "3  honda  reliability  1.199977\n",
              "4  honda        power  1.167037"
            ]
          },
          "metadata": {
            "tags": []
          },
          "execution_count": 45
        }
      ]
    },
    {
      "cell_type": "code",
      "metadata": {
        "id": "w5m1Hgx2QukW",
        "colab": {
          "base_uri": "https://localhost:8080/",
          "height": 225
        },
        "outputId": "c78f7c8a-7c38-474d-e143-37642e4a63f6"
      },
      "source": [
        "brand_attri_matrix = brand_attri_lift.pivot_table(index = 'Brand', columns ='Attribute', values = 'Lift')\n",
        "brand_attri_matrix"
      ],
      "execution_count": 46,
      "outputs": [
        {
          "output_type": "execute_result",
          "data": {
            "text/html": [
              "<div>\n",
              "<style scoped>\n",
              "    .dataframe tbody tr th:only-of-type {\n",
              "        vertical-align: middle;\n",
              "    }\n",
              "\n",
              "    .dataframe tbody tr th {\n",
              "        vertical-align: top;\n",
              "    }\n",
              "\n",
              "    .dataframe thead th {\n",
              "        text-align: right;\n",
              "    }\n",
              "</style>\n",
              "<table border=\"1\" class=\"dataframe\">\n",
              "  <thead>\n",
              "    <tr style=\"text-align: right;\">\n",
              "      <th>Attribute</th>\n",
              "      <th>design</th>\n",
              "      <th>performance</th>\n",
              "      <th>power</th>\n",
              "      <th>price</th>\n",
              "      <th>reliability</th>\n",
              "    </tr>\n",
              "    <tr>\n",
              "      <th>Brand</th>\n",
              "      <th></th>\n",
              "      <th></th>\n",
              "      <th></th>\n",
              "      <th></th>\n",
              "      <th></th>\n",
              "    </tr>\n",
              "  </thead>\n",
              "  <tbody>\n",
              "    <tr>\n",
              "      <th>ford</th>\n",
              "      <td>1.204690</td>\n",
              "      <td>1.143073</td>\n",
              "      <td>1.300774</td>\n",
              "      <td>1.186655</td>\n",
              "      <td>1.102995</td>\n",
              "    </tr>\n",
              "    <tr>\n",
              "      <th>honda</th>\n",
              "      <td>1.200708</td>\n",
              "      <td>1.118852</td>\n",
              "      <td>1.167037</td>\n",
              "      <td>1.236899</td>\n",
              "      <td>1.199977</td>\n",
              "    </tr>\n",
              "    <tr>\n",
              "      <th>hyundai</th>\n",
              "      <td>1.284501</td>\n",
              "      <td>1.081847</td>\n",
              "      <td>1.075707</td>\n",
              "      <td>1.405343</td>\n",
              "      <td>1.170590</td>\n",
              "    </tr>\n",
              "    <tr>\n",
              "      <th>mazda</th>\n",
              "      <td>1.315895</td>\n",
              "      <td>1.244847</td>\n",
              "      <td>1.272334</td>\n",
              "      <td>1.164699</td>\n",
              "      <td>1.183825</td>\n",
              "    </tr>\n",
              "    <tr>\n",
              "      <th>toyota</th>\n",
              "      <td>1.192370</td>\n",
              "      <td>1.164370</td>\n",
              "      <td>1.211372</td>\n",
              "      <td>1.412067</td>\n",
              "      <td>1.242768</td>\n",
              "    </tr>\n",
              "  </tbody>\n",
              "</table>\n",
              "</div>"
            ],
            "text/plain": [
              "Attribute    design  performance     power     price  reliability\n",
              "Brand                                                            \n",
              "ford       1.204690     1.143073  1.300774  1.186655     1.102995\n",
              "honda      1.200708     1.118852  1.167037  1.236899     1.199977\n",
              "hyundai    1.284501     1.081847  1.075707  1.405343     1.170590\n",
              "mazda      1.315895     1.244847  1.272334  1.164699     1.183825\n",
              "toyota     1.192370     1.164370  1.211372  1.412067     1.242768"
            ]
          },
          "metadata": {
            "tags": []
          },
          "execution_count": 46
        }
      ]
    },
    {
      "cell_type": "markdown",
      "metadata": {
        "id": "zQzcwRGEJGiI"
      },
      "source": [
        "### Insights"
      ]
    },
    {
      "cell_type": "code",
      "metadata": {
        "id": "gk3dNOcUR4ML",
        "colab": {
          "base_uri": "https://localhost:8080/",
          "height": 195
        },
        "outputId": "d427c4e4-2358-46f7-c383-74d401b4bb32"
      },
      "source": [
        "brand_attri = brand_attri_lift.groupby('Brand').\\\n",
        "                   apply(lambda brand: brand.sort_values('Lift',ascending = False)).\\\n",
        "                   reset_index(drop = True)\n",
        "brand_attri.head()"
      ],
      "execution_count": 49,
      "outputs": [
        {
          "output_type": "execute_result",
          "data": {
            "text/html": [
              "<div>\n",
              "<style scoped>\n",
              "    .dataframe tbody tr th:only-of-type {\n",
              "        vertical-align: middle;\n",
              "    }\n",
              "\n",
              "    .dataframe tbody tr th {\n",
              "        vertical-align: top;\n",
              "    }\n",
              "\n",
              "    .dataframe thead th {\n",
              "        text-align: right;\n",
              "    }\n",
              "</style>\n",
              "<table border=\"1\" class=\"dataframe\">\n",
              "  <thead>\n",
              "    <tr style=\"text-align: right;\">\n",
              "      <th></th>\n",
              "      <th>Brand</th>\n",
              "      <th>Attribute</th>\n",
              "      <th>Lift</th>\n",
              "    </tr>\n",
              "  </thead>\n",
              "  <tbody>\n",
              "    <tr>\n",
              "      <th>0</th>\n",
              "      <td>ford</td>\n",
              "      <td>power</td>\n",
              "      <td>1.300774</td>\n",
              "    </tr>\n",
              "    <tr>\n",
              "      <th>1</th>\n",
              "      <td>ford</td>\n",
              "      <td>design</td>\n",
              "      <td>1.204690</td>\n",
              "    </tr>\n",
              "    <tr>\n",
              "      <th>2</th>\n",
              "      <td>ford</td>\n",
              "      <td>price</td>\n",
              "      <td>1.186655</td>\n",
              "    </tr>\n",
              "    <tr>\n",
              "      <th>3</th>\n",
              "      <td>ford</td>\n",
              "      <td>performance</td>\n",
              "      <td>1.143073</td>\n",
              "    </tr>\n",
              "    <tr>\n",
              "      <th>4</th>\n",
              "      <td>ford</td>\n",
              "      <td>reliability</td>\n",
              "      <td>1.102995</td>\n",
              "    </tr>\n",
              "  </tbody>\n",
              "</table>\n",
              "</div>"
            ],
            "text/plain": [
              "  Brand    Attribute      Lift\n",
              "0  ford        power  1.300774\n",
              "1  ford       design  1.204690\n",
              "2  ford        price  1.186655\n",
              "3  ford  performance  1.143073\n",
              "4  ford  reliability  1.102995"
            ]
          },
          "metadata": {
            "tags": []
          },
          "execution_count": 49
        }
      ]
    },
    {
      "cell_type": "markdown",
      "metadata": {
        "id": "jT1e0bjeR73X"
      },
      "source": [
        "For Ford, performance and reliability have low lift values, and so a recommendation to the product manager would be to improve the driving and safety of the car.  For the advertising/marketing manager, we would recommend emphasizing these attributes in their commercial efforts."
      ]
    },
    {
      "cell_type": "markdown",
      "metadata": {
        "id": "wFfMT4ORVn7f"
      },
      "source": [
        "We found that Honda and Hyundai cars are not typically co-mentioned with power or performance.  For their brands, they could improve their cars by investing in more powerful engines.  In their advertising/marketing campaigns, we would recommend emphasizing these same attributes."
      ]
    },
    {
      "cell_type": "markdown",
      "metadata": {
        "id": "AH50Flu6WFHM"
      },
      "source": [
        "We found that people who talk about Mazda typically don't talk about value and reliability.  We would recommend that Mazda improve their cars by making them more affordable or more safe.  For the advertising manager, we would recommend using commercials that emphasized safety."
      ]
    },
    {
      "cell_type": "markdown",
      "metadata": {
        "id": "l2tPnCAEWYZ3"
      },
      "source": [
        "Toyota cars are not really known for looking good or being strong performers.  To improve in this area, we would recommend that the product managers hire designers that can improve in these areas.  We would recommend that the marketing/advertising manager emphasize the aesthetics of these cars."
      ]
    },
    {
      "cell_type": "markdown",
      "metadata": {
        "id": "vXXNIzLTfRUq"
      },
      "source": [
        "## Extra Analysis: Aspirational Car Brand\n",
        "Which is the most aspirational brand in terms of people actually wanting to buy or own?\n"
      ]
    },
    {
      "cell_type": "markdown",
      "metadata": {
        "id": "ozmiRz6sYO6X"
      },
      "source": [
        "We chose common phrases that people use to express aspiration.  We went through a these posts to determine these phrases as indicators for the most aspirational brand.  We replaced these phrases with the word \"aspiration\" and then calculated lifts between this word and the brands, to find the most \"aspirational\" brand."
      ]
    },
    {
      "cell_type": "code",
      "metadata": {
        "id": "6tcnCvH8czK8",
        "colab": {
          "base_uri": "https://localhost:8080/",
          "height": 289
        },
        "outputId": "37a89306-5fe9-4c65-dce1-dfc96af5330b"
      },
      "source": [
        "aspire_list = [\"hope to\",\"would like\",\"want to\",\"hope for\",\"aim to\",\"dream of\",\"wish for\",\"can't afford\",\"cant afford\",\"couldn't afford\",\"couldnt afford\"\n",
        "              \"want to buy\", \"hope to buy\",\"is desirable\",\"want to own\",\"hope to own\",\"wish to own\"]\n",
        "\n",
        "def aspir_replace(aspr_word_list, series):\n",
        "    for i in range(len(series)):\n",
        "      current_message = series.iloc[i]\n",
        "      for j in range(len(aspr_word_list)):\n",
        "          current_message = current_message.lower().replace(aspr_word_list[j], 'aspiration')\n",
        "      series.iloc[i] = current_message\n",
        "    return series\n",
        "\n",
        "thread[\"Message\"] = aspir_replace(aspire_list,thread[\"Message\"].astype(str))\n",
        "#tokenize comments\n",
        "thread['tokens'] = thread.Message.apply(lambda each_comm: tokenizer.tokenize(each_comm.lower()))\n",
        "#drop stopwords from tokens\n",
        "thread['tokens'] = thread.tokens.apply(lambda each_token: [i for i in each_token if i not in stop])\n",
        "#replace model name tokens by brand names\n",
        "thread['tokens'] = thread.tokens.apply(lambda each_token: [i if i not in model_brand.index else model_brand.Brand.loc[i]\n",
        "                                                           for i in each_token])\n",
        "#make token list unique\n",
        "thread['tokens'] = thread.tokens.apply(lambda each_token: list(set(each_token)))\n",
        "thread[:5]"
      ],
      "execution_count": null,
      "outputs": [
        {
          "output_type": "execute_result",
          "data": {
            "text/html": [
              "<div>\n",
              "<style scoped>\n",
              "    .dataframe tbody tr th:only-of-type {\n",
              "        vertical-align: middle;\n",
              "    }\n",
              "\n",
              "    .dataframe tbody tr th {\n",
              "        vertical-align: top;\n",
              "    }\n",
              "\n",
              "    .dataframe thead th {\n",
              "        text-align: right;\n",
              "    }\n",
              "</style>\n",
              "<table border=\"1\" class=\"dataframe\">\n",
              "  <thead>\n",
              "    <tr style=\"text-align: right;\">\n",
              "      <th></th>\n",
              "      <th>UserID</th>\n",
              "      <th>Date</th>\n",
              "      <th>Message</th>\n",
              "      <th>tokens</th>\n",
              "      <th>token_pos_tag</th>\n",
              "      <th>nn_adj</th>\n",
              "    </tr>\n",
              "  </thead>\n",
              "  <tbody>\n",
              "    <tr>\n",
              "      <th>0</th>\n",
              "      <td>motownusa</td>\n",
              "      <td>April 11, 2007 7:52PM</td>\n",
              "      <td>hi pat:\\n\\nyou forgot the chrysler sebring</td>\n",
              "      <td>[forgot, hi, chrysler, pat]</td>\n",
              "      <td>[(forgot, JJ), (hi, NN), (chrysler, NN), (pat,...</td>\n",
              "      <td>[forgot, hi, chrysler, pat]</td>\n",
              "    </tr>\n",
              "    <tr>\n",
              "      <th>1</th>\n",
              "      <td>exshoman</td>\n",
              "      <td>April 11, 2007 8:33PM</td>\n",
              "      <td>i'm sure some folks would appreciate having th...</td>\n",
              "      <td>[folks, included, well, chevrolet, sure, would...</td>\n",
              "      <td>[(folks, NNS), (included, VBD), (well, RB), (c...</td>\n",
              "      <td>[folks, chevrolet, sure]</td>\n",
              "    </tr>\n",
              "    <tr>\n",
              "      <th>2</th>\n",
              "      <td>targettuning</td>\n",
              "      <td>April 12, 2007 7:51AM</td>\n",
              "      <td>you can try to revive this topic but without b...</td>\n",
              "      <td>[talk, spite, discussion, try, comparisons, he...</td>\n",
              "      <td>[(talk, NN), (spite, JJ), (discussion, NN), (t...</td>\n",
              "      <td>[talk, spite, discussion, try, comparisons, po...</td>\n",
              "    </tr>\n",
              "    <tr>\n",
              "      <th>3</th>\n",
              "      <td>pat</td>\n",
              "      <td>April 12, 2007 9:43AM</td>\n",
              "      <td>model vs. model is exactly what we're here for...</td>\n",
              "      <td>[happening, discussion, number, vehicles, news...</td>\n",
              "      <td>[(happening, VBG), (discussion, NN), (number, ...</td>\n",
              "      <td>[discussion, number, vehicles, news, many, pre...</td>\n",
              "    </tr>\n",
              "    <tr>\n",
              "      <th>4</th>\n",
              "      <td>perna</td>\n",
              "      <td>April 13, 2007 12:49PM</td>\n",
              "      <td>the altima is my favorite of the bunch. it is ...</td>\n",
              "      <td>[lot, host, nissan, motor, ford, expensive, ma...</td>\n",
              "      <td>[(lot, NN), (host, NN), (nissan, JJ), (motor, ...</td>\n",
              "      <td>[lot, host, nissan, motor, ford, expensive, ma...</td>\n",
              "    </tr>\n",
              "  </tbody>\n",
              "</table>\n",
              "</div>"
            ],
            "text/plain": [
              "         UserID  ...                                             nn_adj\n",
              "0     motownusa  ...                        [forgot, hi, chrysler, pat]\n",
              "1      exshoman  ...                           [folks, chevrolet, sure]\n",
              "2  targettuning  ...  [talk, spite, discussion, try, comparisons, po...\n",
              "3           pat  ...  [discussion, number, vehicles, news, many, pre...\n",
              "4         perna  ...  [lot, host, nissan, motor, ford, expensive, ma...\n",
              "\n",
              "[5 rows x 6 columns]"
            ]
          },
          "metadata": {
            "tags": []
          },
          "execution_count": 345
        }
      ]
    },
    {
      "cell_type": "code",
      "metadata": {
        "id": "ErCDtVv9AG4Y"
      },
      "source": [
        "ref = relevant_count_data[\"Word\"].tolist()"
      ],
      "execution_count": null,
      "outputs": []
    },
    {
      "cell_type": "code",
      "metadata": {
        "id": "gyVDMHbzBcNj",
        "colab": {
          "base_uri": "https://localhost:8080/",
          "height": 202
        },
        "outputId": "2d1604e3-cf8d-4f44-d5c0-3e797f32afeb"
      },
      "source": [
        "brand_attri_lift = pd.DataFrame(columns = ['Brand', 'Lift'])\n",
        "row = 0\n",
        "for brand in ref:\n",
        "    current_lift = lift(brand, \"aspiration\", thread[\"Message\"])\n",
        "    brand_attri_lift.loc[row] = [str(brand), current_lift]\n",
        "    row += 1\n",
        "brand_attri_lift = brand_attri_lift.sort_values(by = \"Lift\",ascending = False)\n",
        "brand_attri_lift[:5]"
      ],
      "execution_count": null,
      "outputs": [
        {
          "output_type": "execute_result",
          "data": {
            "text/html": [
              "<div>\n",
              "<style scoped>\n",
              "    .dataframe tbody tr th:only-of-type {\n",
              "        vertical-align: middle;\n",
              "    }\n",
              "\n",
              "    .dataframe tbody tr th {\n",
              "        vertical-align: top;\n",
              "    }\n",
              "\n",
              "    .dataframe thead th {\n",
              "        text-align: right;\n",
              "    }\n",
              "</style>\n",
              "<table border=\"1\" class=\"dataframe\">\n",
              "  <thead>\n",
              "    <tr style=\"text-align: right;\">\n",
              "      <th></th>\n",
              "      <th>Brand</th>\n",
              "      <th>Lift</th>\n",
              "    </tr>\n",
              "  </thead>\n",
              "  <tbody>\n",
              "    <tr>\n",
              "      <th>25</th>\n",
              "      <td>suzuki</td>\n",
              "      <td>4.669811</td>\n",
              "    </tr>\n",
              "    <tr>\n",
              "      <th>24</th>\n",
              "      <td>infiniti</td>\n",
              "      <td>3.735849</td>\n",
              "    </tr>\n",
              "    <tr>\n",
              "      <th>18</th>\n",
              "      <td>mitsubishi</td>\n",
              "      <td>2.410225</td>\n",
              "    </tr>\n",
              "    <tr>\n",
              "      <th>16</th>\n",
              "      <td>buick</td>\n",
              "      <td>2.334906</td>\n",
              "    </tr>\n",
              "    <tr>\n",
              "      <th>11</th>\n",
              "      <td>mercury</td>\n",
              "      <td>2.075472</td>\n",
              "    </tr>\n",
              "  </tbody>\n",
              "</table>\n",
              "</div>"
            ],
            "text/plain": [
              "         Brand      Lift\n",
              "25      suzuki  4.669811\n",
              "24    infiniti  3.735849\n",
              "18  mitsubishi  2.410225\n",
              "16       buick  2.334906\n",
              "11     mercury  2.075472"
            ]
          },
          "metadata": {
            "tags": []
          },
          "execution_count": 267
        }
      ]
    },
    {
      "cell_type": "markdown",
      "metadata": {
        "id": "qq88WEgIJJcI"
      },
      "source": [
        "Based on the analysis above, there is a bias in this forum towards suzuki cars.  The explanation can be found with the comments made by \"iluvmysephia1\", who has inflated the forum with their love for the Suzuki brand.  In most (if not all) of their posts, they express their opinion on Suzuki as the superior brand for Mid-Sized Sedans.  As a suggestion, it may be a good idea for companies to create their own bots to counter this inflation with their own aspirational posts.  That way, consumers that visit this post won't be swayed by this individual's posts, but rather will have a range of options to consider."
      ]
    }
  ]
}