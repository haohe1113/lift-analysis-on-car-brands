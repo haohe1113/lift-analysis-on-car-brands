{
 "cells": [
  {
   "cell_type": "markdown",
   "metadata": {},
   "source": [
    "**click link below to install ChromeDriver bef running other code**\n"
   ]
  },
  {
   "cell_type": "markdown",
   "metadata": {},
   "source": [
    "[Install ChromeDriver](https://medium.com/@shanyitan/how-to-install-selenium-and-run-it-successfully-via-jupyter-lab-c3f50d22a0d4)\n",
    "\n",
    "[How to Scrape One Page from Edmunds](https://towardsdatascience.com/web-scraping-using-selenium-python-8a60f4cf40ab)"
   ]
  },
  {
   "cell_type": "code",
   "execution_count": 1,
   "metadata": {},
   "outputs": [
    {
     "name": "stdout",
     "output_type": "stream",
     "text": [
      "Requirement already satisfied: selenium in /Users/hau/Anaconda3/anaconda3/lib/python3.7/site-packages (3.141.0)\r\n",
      "Requirement already satisfied: urllib3 in /Users/hau/Anaconda3/anaconda3/lib/python3.7/site-packages (from selenium) (1.25.8)\r\n"
     ]
    }
   ],
   "source": [
    "#install selenium\n",
    "!pip install selenium"
   ]
  },
  {
   "cell_type": "code",
   "execution_count": 2,
   "metadata": {},
   "outputs": [
    {
     "data": {
      "text/plain": [
       "'/Users/hau/Anaconda3/anaconda3/bin'"
      ]
     },
     "execution_count": 2,
     "metadata": {},
     "output_type": "execute_result"
    }
   ],
   "source": [
    "#print current directory for Jupyter NB\n",
    "import os\n",
    "import sys\n",
    "os.path.dirname(sys.executable)"
   ]
  },
  {
   "cell_type": "code",
   "execution_count": 3,
   "metadata": {},
   "outputs": [],
   "source": [
    "import pandas as pd\n",
    "from selenium import webdriver"
   ]
  },
  {
   "cell_type": "code",
   "execution_count": 4,
   "metadata": {},
   "outputs": [],
   "source": [
    "#set up ChromeDriver\n",
    "chrome_options = webdriver.ChromeOptions()\n",
    "chrome_options.add_argument('--headless')\n",
    "chrome_options.add_argument('--no-sandbox')\n",
    "chrome_options.add_argument('--disable-dev-shm-usage')\n",
    "\n",
    "driver = webdriver.Chrome('chromedriver', options = chrome_options)"
   ]
  },
  {
   "cell_type": "code",
   "execution_count": 16,
   "metadata": {},
   "outputs": [
    {
     "name": "stdout",
     "output_type": "stream",
     "text": [
      "PF_Flyer\n"
     ]
    }
   ],
   "source": [
    "#example: scrape one user id\n",
    "driver.get('https://forums.edmunds.com/discussion/50806/general/x/car-subscription-vs-lease-vs-purchase')\n",
    "userid_element = driver.find_elements_by_xpath('//*[@id=\"Comment_5488847\"]/div/div[2]/div[1]/span[1]/a[2]')[0]\n",
    "userid = userid_element.text\n",
    "\n",
    "print(userid)"
   ]
  },
  {
   "cell_type": "code",
   "execution_count": 6,
   "metadata": {},
   "outputs": [
    {
     "data": {
      "text/html": [
       "<div>\n",
       "<style scoped>\n",
       "    .dataframe tbody tr th:only-of-type {\n",
       "        vertical-align: middle;\n",
       "    }\n",
       "\n",
       "    .dataframe tbody tr th {\n",
       "        vertical-align: top;\n",
       "    }\n",
       "\n",
       "    .dataframe thead th {\n",
       "        text-align: right;\n",
       "    }\n",
       "</style>\n",
       "<table border=\"1\" class=\"dataframe\">\n",
       "  <thead>\n",
       "    <tr style=\"text-align: right;\">\n",
       "      <th></th>\n",
       "      <th>Date</th>\n",
       "      <th>user_id</th>\n",
       "      <th>comments</th>\n",
       "    </tr>\n",
       "  </thead>\n",
       "  <tbody>\n",
       "    <tr>\n",
       "      <th>0</th>\n",
       "      <td>April 15, 2007 8:36PM</td>\n",
       "      <td>elroy5</td>\n",
       "      <td>No, I have not driven a Sonata. I have driven ...</td>\n",
       "    </tr>\n",
       "    <tr>\n",
       "      <th>1</th>\n",
       "      <td>April 15, 2007 11:40PM</td>\n",
       "      <td>plekto</td>\n",
       "      <td>Of course the Buick LaCrosse qualifies. It cer...</td>\n",
       "    </tr>\n",
       "    <tr>\n",
       "      <th>2</th>\n",
       "      <td>April 16, 2007 12:17AM</td>\n",
       "      <td>punkr77</td>\n",
       "      <td>One thing that drops the Maxima off my shoppin...</td>\n",
       "    </tr>\n",
       "  </tbody>\n",
       "</table>\n",
       "</div>"
      ],
      "text/plain": [
       "                     Date  user_id  \\\n",
       "0   April 15, 2007 8:36PM   elroy5   \n",
       "1  April 15, 2007 11:40PM   plekto   \n",
       "2  April 16, 2007 12:17AM  punkr77   \n",
       "\n",
       "                                            comments  \n",
       "0  No, I have not driven a Sonata. I have driven ...  \n",
       "1  Of course the Buick LaCrosse qualifies. It cer...  \n",
       "2  One thing that drops the Maxima off my shoppin...  "
      ]
     },
     "execution_count": 6,
     "metadata": {},
     "output_type": "execute_result"
    }
   ],
   "source": [
    "#scraper for a single web page\n",
    "\n",
    "def page_scraper(url):\n",
    "    driver.get(url)\n",
    "    #output df\n",
    "    comments = pd.DataFrame(columns = ['Date','user_id','comments']) \n",
    "\n",
    "    #comment id list\n",
    "    ids = driver.find_elements_by_xpath(\"//*[contains(@id,'Comment_')]\")\n",
    "    comment_ids = []\n",
    "    \n",
    "    for i in ids:\n",
    "        comment_ids.append(i.get_attribute('id'))\n",
    "\n",
    "    #extract date/id/message from each comment unit\n",
    "    for x in comment_ids:\n",
    "        #Extract dates from for each user on a page\n",
    "        user_date = driver.find_elements_by_xpath('//*[@id=\"' + x +'\"]/div/div[2]/div[2]/span[1]/a/time')[0]\n",
    "        date = user_date.get_attribute('title')\n",
    "        #Extract user ids from each user on a page\n",
    "        userid_element = driver.find_elements_by_xpath('//*[@id=\"' + x +'\"]/div/div[2]/div[1]/span[1]/a[2]')[0]\n",
    "        userid = userid_element.text\n",
    "        #Extract Message for each user on a page\n",
    "        user_message = driver.find_elements_by_xpath('//*[@id=\"' + x +'\"]/div/div[3]/div/div[1]')[0]\n",
    "        comment = user_message.text\n",
    "        #put all three in one row of the output df\n",
    "        comments.loc[len(comments)] = [date,userid,comment]\n",
    "        \n",
    "    return comments\n",
    "\n",
    "\n",
    "#test\n",
    "page_1 = page_scraper('https://forums.edmunds.com/discussion/7526/general/x/midsize-sedans-2-0/p2')\n",
    "page_1.head(3)"
   ]
  },
  {
   "cell_type": "code",
   "execution_count": 7,
   "metadata": {},
   "outputs": [
    {
     "data": {
      "text/plain": [
       "543"
      ]
     },
     "execution_count": 7,
     "metadata": {},
     "output_type": "execute_result"
    }
   ],
   "source": [
    "#generate a list of urls for all pages in one thread\n",
    "\n",
    "def page_urls_generater(thread_url, page_count):\n",
    "    page_urls = [thread_url, ]\n",
    "    for i in range(2, page_count + 1):\n",
    "        page_urls.append(thread_url + '/p' + str(i))\n",
    "    \n",
    "    return page_urls\n",
    "\n",
    "#test\n",
    "test_thread = 'https://forums.edmunds.com/discussion/7526/general/x/midsize-sedans-2-0' \n",
    "test_page_count = 543\n",
    "test_url_list = page_urls_generater(test_thread, test_page_count)\n",
    "len(test_url_list)"
   ]
  },
  {
   "cell_type": "code",
   "execution_count": 8,
   "metadata": {},
   "outputs": [],
   "source": [
    "#scraper for one thread - The Scraper\n",
    "\n",
    "def scraper(thread_url, page_count):\n",
    "    #output df\n",
    "    comments = pd.DataFrame(columns = ['Date','user_id','comments']) \n",
    "    \n",
    "    #iterate over page urls\n",
    "    for url in page_urls_generater(thread_url, page_count):\n",
    "        page_comm = page_scraper(url)\n",
    "        comments = comments.append(page_comm, ignore_index = True)\n",
    "        \n",
    "    return comments\n"
   ]
  },
  {
   "cell_type": "code",
   "execution_count": 9,
   "metadata": {},
   "outputs": [
    {
     "data": {
      "text/html": [
       "<div>\n",
       "<style scoped>\n",
       "    .dataframe tbody tr th:only-of-type {\n",
       "        vertical-align: middle;\n",
       "    }\n",
       "\n",
       "    .dataframe tbody tr th {\n",
       "        vertical-align: top;\n",
       "    }\n",
       "\n",
       "    .dataframe thead th {\n",
       "        text-align: right;\n",
       "    }\n",
       "</style>\n",
       "<table border=\"1\" class=\"dataframe\">\n",
       "  <thead>\n",
       "    <tr style=\"text-align: right;\">\n",
       "      <th></th>\n",
       "      <th>Date</th>\n",
       "      <th>user_id</th>\n",
       "      <th>comments</th>\n",
       "    </tr>\n",
       "  </thead>\n",
       "  <tbody>\n",
       "    <tr>\n",
       "      <th>0</th>\n",
       "      <td>September 1, 2006 12:33PM</td>\n",
       "      <td>newdodgeowner</td>\n",
       "      <td>I have a 2001 Dodge Ram with a 5.9. I noticed ...</td>\n",
       "    </tr>\n",
       "    <tr>\n",
       "      <th>1</th>\n",
       "      <td>September 2, 2006 1:22AM</td>\n",
       "      <td>rollerdoo</td>\n",
       "      <td>I was told it is the lock up converter. I also...</td>\n",
       "    </tr>\n",
       "    <tr>\n",
       "      <th>2</th>\n",
       "      <td>September 9, 2006 11:36AM</td>\n",
       "      <td>carnut17</td>\n",
       "      <td>Can anyone please help !!! I purcased a 98 ram...</td>\n",
       "    </tr>\n",
       "    <tr>\n",
       "      <th>3</th>\n",
       "      <td>September 9, 2006 6:02PM</td>\n",
       "      <td>KCRam</td>\n",
       "      <td>When my 96 3500 Cummins would start slipping, ...</td>\n",
       "    </tr>\n",
       "    <tr>\n",
       "      <th>4</th>\n",
       "      <td>September 10, 2006 10:23AM</td>\n",
       "      <td>carnut17</td>\n",
       "      <td>Thanks so much kcram, for the advice. I will h...</td>\n",
       "    </tr>\n",
       "    <tr>\n",
       "      <th>...</th>\n",
       "      <td>...</td>\n",
       "      <td>...</td>\n",
       "      <td>...</td>\n",
       "    </tr>\n",
       "    <tr>\n",
       "      <th>2057</th>\n",
       "      <td>November 6, 2018 6:49AM</td>\n",
       "      <td>jamjon</td>\n",
       "      <td>jamjon said:\\nshow previous quotes\\nI had my m...</td>\n",
       "    </tr>\n",
       "    <tr>\n",
       "      <th>2058</th>\n",
       "      <td>January 3, 2019 8:06PM</td>\n",
       "      <td>RamChick34</td>\n",
       "      <td>Hey guys. I have an 01 1500 with the 5.9 and 4...</td>\n",
       "    </tr>\n",
       "    <tr>\n",
       "      <th>2059</th>\n",
       "      <td>January 3, 2019 8:16PM</td>\n",
       "      <td>RamChick34</td>\n",
       "      <td>gaidinbdj said:\\nAlright, I'll start off by sa...</td>\n",
       "    </tr>\n",
       "    <tr>\n",
       "      <th>2060</th>\n",
       "      <td>July 1, 2019 11:35PM</td>\n",
       "      <td>Pyrosrule69</td>\n",
       "      <td>I know this is probably a dead thread. But I h...</td>\n",
       "    </tr>\n",
       "    <tr>\n",
       "      <th>2061</th>\n",
       "      <td>April 25, 2020 4:23AM</td>\n",
       "      <td>pbboy8</td>\n",
       "      <td>I have a daily ride dodge ram 1500 and sundden...</td>\n",
       "    </tr>\n",
       "  </tbody>\n",
       "</table>\n",
       "<p>2062 rows × 3 columns</p>\n",
       "</div>"
      ],
      "text/plain": [
       "                            Date        user_id  \\\n",
       "0      September 1, 2006 12:33PM  newdodgeowner   \n",
       "1       September 2, 2006 1:22AM      rollerdoo   \n",
       "2      September 9, 2006 11:36AM       carnut17   \n",
       "3       September 9, 2006 6:02PM          KCRam   \n",
       "4     September 10, 2006 10:23AM       carnut17   \n",
       "...                          ...            ...   \n",
       "2057     November 6, 2018 6:49AM         jamjon   \n",
       "2058      January 3, 2019 8:06PM     RamChick34   \n",
       "2059      January 3, 2019 8:16PM     RamChick34   \n",
       "2060        July 1, 2019 11:35PM    Pyrosrule69   \n",
       "2061       April 25, 2020 4:23AM         pbboy8   \n",
       "\n",
       "                                               comments  \n",
       "0     I have a 2001 Dodge Ram with a 5.9. I noticed ...  \n",
       "1     I was told it is the lock up converter. I also...  \n",
       "2     Can anyone please help !!! I purcased a 98 ram...  \n",
       "3     When my 96 3500 Cummins would start slipping, ...  \n",
       "4     Thanks so much kcram, for the advice. I will h...  \n",
       "...                                                 ...  \n",
       "2057  jamjon said:\\nshow previous quotes\\nI had my m...  \n",
       "2058  Hey guys. I have an 01 1500 with the 5.9 and 4...  \n",
       "2059  gaidinbdj said:\\nAlright, I'll start off by sa...  \n",
       "2060  I know this is probably a dead thread. But I h...  \n",
       "2061  I have a daily ride dodge ram 1500 and sundden...  \n",
       "\n",
       "[2062 rows x 3 columns]"
      ]
     },
     "execution_count": 9,
     "metadata": {},
     "output_type": "execute_result"
    }
   ],
   "source": [
    "#test\n",
    "test_thread = 'https://forums.edmunds.com/discussion/5779/dodge/ram-pickup-1500/dodge-ram-transmission-problems' \n",
    "test_page_count = 42\n",
    "test_comments = scraper(test_thread, test_page_count)\n",
    "test_comments"
   ]
  },
  {
   "cell_type": "code",
   "execution_count": 11,
   "metadata": {},
   "outputs": [],
   "source": [
    "#test_comments.to_csv('test_dodge_thread.csv', index = False)"
   ]
  },
  {
   "cell_type": "code",
   "execution_count": null,
   "metadata": {},
   "outputs": [],
   "source": []
  }
 ],
 "metadata": {
  "kernelspec": {
   "display_name": "Python 3",
   "language": "python",
   "name": "python3"
  },
  "language_info": {
   "codemirror_mode": {
    "name": "ipython",
    "version": 3
   },
   "file_extension": ".py",
   "mimetype": "text/x-python",
   "name": "python",
   "nbconvert_exporter": "python",
   "pygments_lexer": "ipython3",
   "version": "3.7.6"
  }
 },
 "nbformat": 4,
 "nbformat_minor": 4
}
